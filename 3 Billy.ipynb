{
 "cells": [
  {
   "cell_type": "markdown",
   "metadata": {
    "deletable": false,
    "editable": false
   },
   "source": [
    "# Analytical Computing — Billy\n",
    "\n",
    "De Billy bevat extra theorie en opdrachten die bedoeld zijn voor studenten die nieuwsgierig zijn of meer uitdaging willen. Het vak Analytical Computing bevat een eerste introductie van een aantal wiskundige deelonderwerpen, waarvan een deel van jullie misschien al ruime kennis heeft van de middelbare school, terwijl dit voor een ander juist heel veel nieuwe informatie is.\n",
    "Om de cursus voor iedereen leuk en op eigen niveau uitdagend te houden zijn op Canvas en in deze notebook onderwerpen te vinden voor de gevorderde student. In sommige gevallen zul je hier ook oefeningen van vorige jaren tegenkomen, die uit het verplichte deel van dit vak geschrapt zijn.\n",
    "\n",
    "Veel plezier!"
   ]
  },
  {
   "cell_type": "code",
   "execution_count": null,
   "metadata": {},
   "outputs": [],
   "source": [
    "studentnr = \"vul hier je studentnummer in\"\n",
    "\n",
    "import numpy as np\n",
    "import ac, ac_opgaven, ac_uitwerkingen, ac_tests\n",
    "from ac_formula import *\n",
    "from ac_random import RNG\n",
    "from IPython.display import YouTubeVideo\n",
    "_ = RNG(studentnr)"
   ]
  },
  {
   "cell_type": "markdown",
   "metadata": {
    "deletable": false,
    "editable": false
   },
   "source": [
    "## Differentieren als lineaire operatie\n",
    "Differentieren van polynomen kan ook eenvoudig in termen van lineaire algebra. Je kunt een vector $\\begin{bmatrix}1\\\\2\\\\3\\end{bmatrix}$ zien als een weergave van de polynoom $1 + 2x + 3x^2$. Daarbij is het ook mogelijk om een matrix te vinden die de derivative berekent. Bijvoorbeeld:\n",
    "\n",
    "$$\\vec{p} = \\begin{bmatrix} 1\\\\ 2\\\\ \\end{bmatrix} \\qquad \\mathbf{D_2} = \\begin{bmatrix} 0 & 1\\\\ 0 & 0\\\\ \\end{bmatrix} \\qquad \\mathbf{D_2}\\cdot \\vec{p} = \\begin{bmatrix} 2\\\\ 0\\\\ \\end{bmatrix}$$\n",
    "\n",
    "$$p(x) = 2x + 1\\qquad\\qquad\\qquad\\qquad p^\\prime(x) = 2$$\n",
    "\n",
    "Deze matrix volgt een speciaal patroon: de getallen staan van links naar rechts (en boven naar beneden) voor de termen met de exponenten van groot naar klein. De eerste kolom/rij gaat over $1$-tallen, dan $x$-tallen, dan $x^2$-tallen, etc., waarbij de kolom waarin een getal staat vertelt welke termen in het in het orgineel met de factor vermenigvuldigt moeten worden, om de termen in de afgeleide te vinden waar de rij voor staat.\n",
    "\n",
    "De $1$ rechtsbovenin vertelt dat het $x$-tal van het origineel (want: 2e kolom) vermenigvuldigt wordt met met $1$, en dat het resultaat het $1$-tal van de afgeleide is (want: 1e rij). Verder staan er overal nullen, dus de andere factoren worden niet meegenomen. Bedenk hoe een grotere matrix eruit moet zien, voor grotere polynomen.\n",
    "\n",
    "Teken in het gele vlak hieronder de afgeleide-matrices voor een 3, 4 en 5-dimensionale vectoren, dus voor polynomen van de vormen $ax^2+bx+c$ tot $ax^4+bx^3+cx^2+dx+e$. Schrijf daarna een functie die deze, gegeven een vector, de juiste matrix opbouwt en deze vermenigvuldigt met de vector; het resultaat is daarmee de afgeleide van de input, in vector vorm."
   ]
  },
  {
   "cell_type": "markdown",
   "metadata": {},
   "source": [
    "<div style=\"background: rgba(255,255,128,0.4); padding: 5px\">\n",
    "\n",
    "$\\mathbf{D_3} = \\dots % TODO $\n",
    "\n",
    "$\\mathbf{D_4} = \\dots % TODO $\n",
    "    \n",
    "$\\mathbf{D_5} = \\dots % TODO $\n",
    "\n",
    "</div>"
   ]
  },
  {
   "cell_type": "code",
   "execution_count": null,
   "metadata": {},
   "outputs": [],
   "source": [
    "def deriv_matrix(polynomial: np.ndarray) -> np.ndarray: # TODO\n",
    "    pass"
   ]
  },
  {
   "cell_type": "markdown",
   "metadata": {
    "deletable": false,
    "editable": false
   },
   "source": [
    "### Tests\n",
    "Voor deze functie is er een enkele test, die voor $3x^2 + x + 2$ de matrix test."
   ]
  },
  {
   "cell_type": "code",
   "execution_count": null,
   "metadata": {
    "deletable": false,
    "editable": false
   },
   "outputs": [],
   "source": [
    "ac_tests.test_matrix_derivative(deriv_matrix)"
   ]
  },
  {
   "cell_type": "markdown",
   "metadata": {
    "deletable": false,
    "editable": false
   },
   "source": [
    "## Toepassing: lineaire regressie\n",
    "\n",
    "Hieronder zie je de code voor een lineair regressie probleem. Op basis van een erg beperkte dataset willen we aan de hand van de kaas-consumptie per persoon (in pond) bepalen hoeveel mensen er overlijden aan het verstrikt raken in hun bedlakens [[bron](http://tylervigen.com/spurious-correlations)]. Veel van de code heeft te meer met statistiek te maken dan met calculus, dus die laten we even liggen, maar dit voorbeeld laat wel zien waarom calculus (in dit geval specifiek differentiëren) belangrijk is."
   ]
  },
  {
   "cell_type": "code",
   "execution_count": null,
   "metadata": {
    "deletable": false,
    "editable": false
   },
   "outputs": [],
   "source": [
    "data = {29.8: 327, 30.1: 456, 30.5: 509, 30.6: 497, 31.3: 596,  # x: Per capita cheese consumption\n",
    "        31.7: 573, 32.6: 661, 33.1: 741, 32.7: 809, 32.8: 717}  # y: Number of people who died by becoming tangled in their bedsheets\n",
    "\n",
    "ac.plot_data_lr(data)"
   ]
  },
  {
   "cell_type": "markdown",
   "metadata": {
    "deletable": false,
    "editable": false
   },
   "source": [
    "We doen voorspellingen op basis van de aanname dat we een rechte lijn in de data kunnen trekken die redelijk dicht bij alle datapunten in de buurt zal komen. Deze rechte lijn kunnen we uitdrukken als $sx+i$. De variabele $s$ staat voor de slope: deze bepaal de richting die de lijn opgaat. Een lijn met slope 0 is plat, en hoe hoger de slope hoe sneller de lijn stijgt (en hoe lager, hoe sneller de lijn daalt). De variabele $i$ staat voor intercept, het punt waarop de lijn de $y$-as raakt (intercept betekent onderscheppen).\n",
    "\n",
    "We kunnen bepalen hoe goed onze voorspelling werkt door voor elk datapunt de fout te berekenen, hier het kwadraat van de nemen (we willen dat de fout altijd positief is, zodat onderschatten en overschatten elkaar niet teniet doen; denk terug aan het statistiek-gedeelte van ASK). Van al deze gekwadrateerde fouten nemen we het gemiddelde.\n",
    "\n",
    "We willen deze functie minimaliseren, want hoe kleiner de totale fout, hoe beter onze voorspelling. We hebben te maken met twee waardes die we willen optimaliseren, de slope en de intercept. Voor dit subprobleem kunnen we calculus gebruiken. Als we de afgeleide van onze kosten-functie hebben dan weten we of de fout groter of kleiner wordt als we de variabelen aanpassen. Aan jullie de taak de twee variabelen te differntiëren!\n",
    "\n",
    "Het differentiëren van een functie met twee variabelen hebben we nog niet gezien (dat gaat later zeker terugkomen), maar gelukkig is dit niet zo moeilijk. We maken twee afgeleides: eentje waarbij we ervan uitgaan dat de slope $s$ constant is en we alleen maar naar de intercept $i$ kijken (dus waar we normaal $x$ hebben, hebben we nu $i$), en eentje waarbij we juist alleen naar de intercept kijken en de slope als constante beschouwen.\n",
    "\n",
    "De formule die we gaan differentiëren ziet er als volgt uit:\n",
    "\n",
    "$$J(s,i) = \\frac{1}{N} \\sum_{j=0}^N(y_j - (sx_j+i))^2$$\n",
    "\n",
    "De som $\\Sigma$ hebben we nog geen afgeleide van gezien, dus die verklappen we vast: dit is herhaaldelijk optellen, en de afgeleide van formule1 + formule2 is van beide de afgeleide nemen en die bij elkaar optellen. Het delen is vermenigvuldigen met een constante, dus die mogen we ook wegdenken en op het einde toevoegen.\n",
    "\n",
    "$$J(s,i) = (y - (sx+i))^2$$\n",
    "\n",
    "Deze moeten we dus twee keer differentiëren, een keer met betrekking tot $s$ (dan zijn $i$, $y$ en $x$ constanten), en een keer met betrekking tot $i$ (dan zijn $s$, $y$ en $x$ constanten). Hint: je zult de ketting-regel / chain rule moeten gebruiken om met de functie binnen het exponent te dealen.\n",
    "\n",
    "Bereken de beide afgeleides, en vul in de code hieronder de twee variabelen `d_cost_wrt_slope` en `d_cost_wrt_intercept` in met de formules die je gevonden hebt. Je kunt `x`, `y` en de functie `error` gebruiken om je afgeleide in uit te drukken."
   ]
  },
  {
   "cell_type": "code",
   "execution_count": null,
   "metadata": {},
   "outputs": [],
   "source": [
    "def cost(data, slope, intercept):\n",
    "    def predict(x):\n",
    "        return x * slope + intercept\n",
    "\n",
    "    def error(x, y):\n",
    "        return predict(x) - y\n",
    "    \n",
    "    total_error = 0\n",
    "    for x, y in data.items():\n",
    "        total_error += error(x, y) ** 2\n",
    "    return total_error / len(data)\n",
    "\n",
    "def gradient(data, slope, intercept):\n",
    "    learn_rate_slope = 0.0005\n",
    "    learn_rate_intercept = 0.05\n",
    "    \n",
    "    def predict(x):\n",
    "        return x * slope + intercept\n",
    "\n",
    "    def error(x, y):\n",
    "        return predict(x) - y\n",
    "    \n",
    "    total_grad_wrt_slope = 0\n",
    "    total_grad_wrt_intercept = 0\n",
    "    for x, y in data.items():\n",
    "        \n",
    "        d_cost_wrt_slope = None            # TODO\n",
    "        d_cost_wrt_intercept = None        # TODO\n",
    "        \n",
    "        total_grad_wrt_slope += d_cost_wrt_slope * learn_rate_slope\n",
    "        total_grad_wrt_intercept += d_cost_wrt_intercept * learn_rate_intercept\n",
    "    return total_grad_wrt_slope / len(data), total_grad_wrt_intercept / len(data)\n",
    "\n",
    "def train(data):\n",
    "    guess_slope = 0\n",
    "    guess_intercept = 0\n",
    "\n",
    "    count = 0\n",
    "    previous = 0\n",
    "    \n",
    "    new = cost(data, guess_slope, guess_intercept)\n",
    "    \n",
    "    while abs(previous - new) > 0.01 and count < 10000:\n",
    "        count += 1\n",
    "        previous = new\n",
    "        update_slope, update_intercept = gradient(data, guess_slope, guess_intercept)\n",
    "        guess_slope += update_slope\n",
    "        guess_intercept += update_intercept\n",
    "        new = cost(data, guess_slope, guess_intercept)\n",
    "        \n",
    "    return guess_slope, guess_intercept\n",
    "\n",
    "s, i = train(data)\n",
    "ac.plot_data_lr(data, s, i)"
   ]
  },
  {
   "cell_type": "markdown",
   "metadata": {
    "deletable": false,
    "editable": false
   },
   "source": [
    "### Tests\n",
    "De test voor deze opdracht kijkt of je model goed genoeg getraind is, d.w.z. de lijn redelijk door de punten loopt en de totale `cost` minder is dan 3200. Als je de juiste afgeleides in hebt gevuld en verder niets hebt veranderd zou je op ongeveer 3047 uit moeten komen."
   ]
  },
  {
   "cell_type": "code",
   "execution_count": null,
   "metadata": {
    "deletable": false,
    "editable": false
   },
   "outputs": [],
   "source": [
    "ac_tests.test_regressie(train, gradient, cost, data)"
   ]
  },
  {
   "cell_type": "markdown",
   "metadata": {
    "deletable": false,
    "editable": false
   },
   "source": [
    "# Symbolisch Integreren\n",
    "Zoals we gezien hebben in de hoofd-stof voor dit vak, is integreren eigenlijk een soort van tegenovergestelde van differentiëren. We hebben dit numeriek toegepast, en daarnaast ook een allereerste begin gezien van hoe dit symbolisch in zijn werk gaat. Symbolisch integreren is vaak vrij lastig: waar voor iedere (differentieerbare) functie een duidelijke afgeleide te vinden is, moet je voor integreren het proces omkeren en bedenken wat, na differentiëren, kan leiden tot de functie die je voor je hebt. Dit komt vooral neer op een hoop trucjes, waarmee je een functie zo op moet schrijven dat de omgekeerde differentieer-regels zichtbaar worden. Het feit dat er daarnaast een onbekende constante term is waardoor je eigenlijk oneindig oplossingen hebt, helpt de zaken ook niet. Om die reden hebben we symbolisch integreren uit de hoofd-stof voor dit vak gehaald. Voor wie zich meer wil verdiepen zijn hieronder een aantal oefeningen te vinden die de integreer-tegenhanger vormen van calculus opdrachten 4 tot en met 7.\n",
    "\n",
    "Omdat de code op sommige plaatsen gebruik maakt van de code die jullie bij opdacht 4-7 geschreven hebben, importeren we hieronder deze notebook nog een keer."
   ]
  },
  {
   "cell_type": "code",
   "execution_count": null,
   "metadata": {
    "deletable": false,
    "editable": false
   },
   "outputs": [],
   "source": [
    "%run \"2 Calculus.ipynb\""
   ]
  },
  {
   "cell_type": "markdown",
   "metadata": {
    "deletable": false,
    "editable": false
   },
   "source": [
    "## Opdracht 0\n",
    "De code die we vanaf opdracht 4 gezien hebben gaan we uitbreiden voor symbolisch integreren. In deze opdracht gaan we dat doen voor een variabele, sommen, producten met een constante en machten.\n",
    "\n",
    "De code voor de constante is weer als voorbeeld gegeven. Zoals je ziet wordt integreren altijd met respect tot een bepaalde variabele gedaan; deze variabele wordt als string meegegeven onder de naar `wrt` (with respect to). Om deze in bijvoorbeeld een product te gebruiken moet deze nog wel in een `Variable` verpakt worden.\n",
    "\n",
    "Bij het integreren van een variabele kunnen we twee gevallen onderscheiden: we integreren $x$ met respect to x, in welk geval we eigenlijk de `Power`-regel gebruiken, of we integreren een andere variabele en komen op een product uit.\n",
    "\n",
    "Bij het integreren van een `Product` hoeven we slechts een paar gevallen te ondersteunen: alleen als een van beide argumenten van de som (`left` of `right`) een `Constant` is, of een `Variable` die niet gelijk is aan `wrt`, hoeft onze functie te werken. In deze gevallen kunnen we de constante / variabele negeren, integreren we alleen de andere kant en vermenigvuldigen we dan weer met de constante / variabele.\n",
    "\n",
    "Bijvoorbeeld: als we $\\int xy\\ dx$ hebben dan geldt $y$ als een constante, dus kunnen we dit lezen als $y \\int x\\ dx$. Dit wordt $y \\frac{x^2}{2}$ oftewel $\\frac{x^2y}{2}$. In alle andere gevallen mogen we `None` teruggeven.\n",
    "\n",
    "Om vanuit een het `Product` te kunnen kijken wat voor object we links hebben kunnen we de functie `isinstance` gebruiken: `isinstance(self.left, Constant)` vertelt ons of de linkerkant van ons product een `Constant` is.\n",
    "\n",
    "*De oplettende lezer / doorgewinterde calculist vraagt zich misschien af hoe het zit met de constance $C$ die bij een indefinite integral wordt toegevoegd; deze mogen we hier negeren, en wordt op het einde automatisch toegevoegd door de integraal van een `Function` te nemen. We gaan voorlopig nog niet zo diep dat het zin heeft deze in een deelformule al mee te nemen. Als je je dit niet afvroeg, of hoofdpijn krijgt van deze toevoeging mag je hem negeren.*"
   ]
  },
  {
   "cell_type": "code",
   "execution_count": null,
   "metadata": {},
   "outputs": [],
   "source": [
    "class Constant(Constant):\n",
    "    def __init__(self, *args, **kwargs):\n",
    "        super().__init__(*args, **kwargs)\n",
    "\n",
    "    def integrate(self, wrt: str): # VOORBEELD\n",
    "        return Product(self, Variable(wrt))\n",
    "\n",
    "class Variable(Variable):\n",
    "    def __init__(self, *args, **kwargs):\n",
    "        super().__init__(*args, **kwargs)\n",
    "        \n",
    "    def integrate(self, wrt: str): # TODO\n",
    "        pass\n",
    "\n",
    "class Sum(Sum):\n",
    "    def __init__(self, *args, **kwargs):\n",
    "        super().__init__(*args, **kwargs)\n",
    "\n",
    "    def integrate(self, wrt: str): # TODO\n",
    "        pass\n",
    "\n",
    "class Product(Product):\n",
    "    def __init__(self, *args, **kwargs):\n",
    "        super().__init__(*args, **kwargs)\n",
    "\n",
    "    def integrate(self, wrt: str): # TODO\n",
    "        pass\n",
    "    \n",
    "class Power(Power):\n",
    "    def __init__(self, *args, **kwargs):\n",
    "        super().__init__(*args, **kwargs)\n",
    "\n",
    "    def integrate(self, wrt: str): # TODO\n",
    "        pass"
   ]
  },
  {
   "cell_type": "markdown",
   "metadata": {
    "deletable": false,
    "editable": false
   },
   "source": [
    "### Tests\n",
    "\n",
    "Ook hier geldt weer dat er voor de meeste gevallen meerdere goede antwoorden zijn, d.w.z. meerde manieren om dezelfde formule op te schrijven. Vertrouw dus niet blind op de test, maar controlleer je antwoord zelf! Een `ok` uit de test betekent dat je ervan uit kan gaan dat je werk klopt, maar als je geen OK krijgt kan je antwoord nog steeds goed zijn. Dit is helaas een limitatie van het Numpy test-systeem.\n",
    "\n",
    "| **Test** | **Betekenis** |\n",
    "|---:|:---|\n",
    "| `test_variable_x` | Zoekt $\\int x\\ dx$, test `Variable` |\n",
    "| `test_variable_y` | Zoekt $\\int y\\ dx$, test `Variable` |\n",
    "| `test_sum` | Zoekt $\\int (x + y)\\ dx$, test `Sum` |\n",
    "| `test_product` | Zoekt de $\\int xy \\ dx$, test `Product` |\n",
    "| `test_power` | Zoekt $\\int x^3\\ dx$, test `Power` |\n",
    "\n",
    "Om een indicatie te geven of een afgekeurd antwoord toch goed is, is voor elke test een tweede variant beschikbaar, met het achtervoegsel `_equivalent`. Deze test niet of dezelfde formule wordt teruggegeven, maar probeert de formule uit en vergelijkt deze met het verwachte antwoord. Een `ok` hier is geen garantie dat je oplossing helemaal klopt, maar is wel een redelijke indicatie."
   ]
  },
  {
   "cell_type": "code",
   "execution_count": null,
   "metadata": {
    "deletable": false,
    "editable": false
   },
   "outputs": [],
   "source": [
    "ac_tests.test_symbolic_integration_alfa(Constant, Variable, Sum, Product, Power)\n",
    "ac_tests.test_symbolic_integration_alfa_eq(Constant, Variable, Sum, Product, Power)"
   ]
  },
  {
   "cell_type": "markdown",
   "metadata": {
    "deletable": false,
    "editable": false
   },
   "source": [
    "## Opdracht 1\n",
    "Breid de mogelijkheid tot integreren uit naar de goniometrische functies, de exponenten en de logaritmen. Je mag ervan uit gaan dat deze met enkel een variabele (zoals $x$) worden gebruikt, en ook met respect tot diezelfde $x$ worden geïntegreerd."
   ]
  },
  {
   "cell_type": "code",
   "execution_count": null,
   "metadata": {},
   "outputs": [],
   "source": [
    "class Sin(Sin):\n",
    "    def __init__(self, *args, **kwargs):\n",
    "        super().__init__(*args, **kwargs)\n",
    "\n",
    "    def integrate(self, wrt: str): # TODO\n",
    "        pass\n",
    "\n",
    "class Cos(Cos):\n",
    "    def __init__(self, *args, **kwargs):\n",
    "        super().__init__(*args, **kwargs)\n",
    "\n",
    "    def integrate(self, wrt: str): # TODO\n",
    "        pass\n",
    "    \n",
    "class Tan(Tan):\n",
    "    def __init__(self, *args, **kwargs):\n",
    "        super().__init__(*args, **kwargs)\n",
    "\n",
    "    def integrate(self, wrt: str): # TODO\n",
    "        pass\n",
    "\n",
    "class E(E):\n",
    "    def __init__(self, *args, **kwargs):\n",
    "        super().__init__(*args, **kwargs)\n",
    "\n",
    "    def integrate(self, wrt: str): # TODO\n",
    "        pass\n",
    "    \n",
    "class Exponent(Exponent):\n",
    "    def __init__(self, *args, **kwargs):\n",
    "        super().__init__(*args, **kwargs)\n",
    "\n",
    "    def integrate(self, wrt: str): # TODO\n",
    "        pass\n",
    "    \n",
    "class Ln(Ln):\n",
    "    def __init__(self, *args, **kwargs):\n",
    "        super().__init__(*args, **kwargs)\n",
    "\n",
    "    def integrate(self, wrt: str): # TODO\n",
    "        pass\n",
    "    \n",
    "class Log(Log):\n",
    "    def __init__(self, *args, **kwargs):\n",
    "        super().__init__(*args, **kwargs)\n",
    "\n",
    "    def integrate(self, wrt: str): # TODO\n",
    "        pass"
   ]
  },
  {
   "cell_type": "markdown",
   "metadata": {
    "deletable": false,
    "editable": false
   },
   "source": [
    "### Tests\n",
    "\n",
    "Ook hier geldt weer dat er voor de meeste gevallen meerdere goede antwoorden zijn, d.w.z. meerde manieren om dezelfde formule op te schrijven. Vertrouw dus niet blind op de test, maar controlleer je antwoord zelf! Een `ok` uit de test betekent dat je ervan uit kan gaan dat je werk klopt, maar als je geen OK krijgt kan je antwoord nog steeds goed zijn. Dit is helaas een limitatie van het Numpy test-systeem.\n",
    "\n",
    "| **Test** | **Betekenis** |\n",
    "|---:|:---|\n",
    "| `test_sin` | Zoekt $\\int \\text{sin}(x)\\ dx$, test `Sin` |\n",
    "| `test_cos` | Zoekt $\\int \\text{cos}(x)\\ dx$, test `Cos` |\n",
    "| `test_tan` | Zoekt $\\int \\text{tan}(x)\\ dx$, test `Tan` |\n",
    "| `test_e` | Zoekt $\\int e^x\\ dx$, test `E` |\n",
    "| `test_exponent` | Zoekt $\\int 3^x\\ dx$, test `Exponent` |\n",
    "| `test_ln` | Zoekt $\\int \\text{ln}(x)\\ dx$, test `Ln` |\n",
    "| `test_log` | Zoekt $\\int \\text{log}_3(x)\\ dx$, test `Log` |\n",
    "\n",
    "Om een indicatie te geven of een afgekeurd antwoord toch goed is, is voor elke test een tweede variant beschikbaar, met het achtervoegsel `_equivalent`. Deze test niet of dezelfde formule wordt teruggegeven, maar probeert de formule uit en vergelijkt deze met het verwachte antwoord. Een `ok` hier is geen garantie dat je oplossing helemaal klopt, maar is wel een redelijke indicatie. "
   ]
  },
  {
   "cell_type": "code",
   "execution_count": null,
   "metadata": {
    "deletable": false,
    "editable": false
   },
   "outputs": [],
   "source": [
    "ac_tests.test_symbolic_integration_bravo(Constant, Variable, Sum, Product, Power, Sin, Cos, Tan, E, Exponent, Ln, Log)\n",
    "ac_tests.test_symbolic_integration_bravo_eq(Constant, Variable, Sum, Product, Power, Sin, Cos, Tan, E, Exponent, Ln, Log)"
   ]
  },
  {
   "cell_type": "markdown",
   "metadata": {
    "deletable": false,
    "editable": false
   },
   "source": [
    "## Symbolisch Integreren op papier\n",
    "In de cel hieronder worden een paar sommen gegenereerd met betrekking tot integralen. Maak deze in de gele cel daaronder, en laat zien hoe je op je antwoord gekomen bent."
   ]
  },
  {
   "cell_type": "code",
   "execution_count": null,
   "metadata": {
    "deletable": false,
    "editable": false
   },
   "outputs": [],
   "source": [
    "ac_opgaven.integrals_billy()"
   ]
  },
  {
   "cell_type": "markdown",
   "metadata": {},
   "source": [
    "<div style=\"background: rgba(255,255,128,0.4); padding: 5px\">\n",
    "    \n",
    "**(a)** $\\dots$\n",
    "\n",
    "<hr />\n",
    "    \n",
    "**(b)** $\\dots$\n",
    "\n",
    "<hr />\n",
    "    \n",
    "**(c)** $\\dots$\n",
    "\n",
    "<hr />\n",
    "    \n",
    "**(d)** $\\dots$\n",
    "\n",
    "</div>"
   ]
  },
  {
   "cell_type": "code",
   "execution_count": null,
   "metadata": {
    "deletable": false,
    "editable": false
   },
   "outputs": [],
   "source": [
    "ac_uitwerkingen.integrals_billy()"
   ]
  },
  {
   "cell_type": "markdown",
   "metadata": {
    "deletable": false,
    "editable": false
   },
   "source": [
    "# Impliciet Differentiëren\n",
    "In de playlist *Essence of Calculus* hebben we de zesde video overgeslagen: die over impliciet differentiëren. Dit gebruiken, we wanneer we geen expliciete formule hebben, maar een vergelijking zoals $x^2 + y^2 = 1$ (de formule voor de eenheidscirkel). In dit geval hebben we geen $f(x) = \\dots$, dus hoe worden we geachte $f^\\prime(x)$ te vinden?\n",
    "In plaats hiervan kunnen we beide kanten van de vergelijking apart differentiëren, en algebra gebruiken om een $dy$ en $dx$ te isoleren waarmee we $\\frac{dy}{dx}$ kunen uitdrukken."
   ]
  },
  {
   "cell_type": "code",
   "execution_count": null,
   "metadata": {
    "deletable": false,
    "editable": false
   },
   "outputs": [],
   "source": [
    "YouTubeVideo('qb40J4N1fa4', width=800, height=500)"
   ]
  },
  {
   "cell_type": "code",
   "execution_count": null,
   "metadata": {
    "deletable": false,
    "editable": false
   },
   "outputs": [],
   "source": [
    "ac_opgaven.implicit_diff()"
   ]
  },
  {
   "cell_type": "markdown",
   "metadata": {},
   "source": [
    "<div style=\"background: rgba(255,255,128,0.4); padding: 5px\">\n",
    "    \n",
    "$\\frac{dy}{dx} = \\dots$\n"
   ]
  },
  {
   "cell_type": "code",
   "execution_count": null,
   "metadata": {
    "deletable": false,
    "editable": false
   },
   "outputs": [],
   "source": [
    "ac_uitwerkingen.implicit_diff()"
   ]
  },
  {
   "cell_type": "markdown",
   "metadata": {
    "deletable": false,
    "editable": false
   },
   "source": [
    "# Differentiaalvergelijkingen"
   ]
  },
  {
   "cell_type": "markdown",
   "metadata": {
    "deletable": false,
    "editable": false
   },
   "source": [
    "## Opdracht 0\n",
    "In sommige gevallen hebben we een formule om een verandering te bepalen, maar niet om de waarde op een bepaald tijdstip te bepalen. We hebben de afgeleide van een formule, en kunnen misschien een enkele meting doen, en moeten hiermee proberen de niet-afgeleide formule te bepalen. Dit noemen we differentiaal-vergelijkingen. We weten hoe we met de indefinite integral een een soort anti-afgeleide kunnen vinden, maar hiermee vinden we eigenlijk een oneindige set van mogelijke formules: de onbekende constante $C$ die we aan het einde bij de integraal optellen kan namelijk alles zijn. We hebben de waarde van de originele formule op een enkel punt nodig om deze $C$ te bepalen en de originele formule te vinden.\n",
    "\n",
    "Hieronder staat een random differentiaal-vergelijking. Je krijgt de afgeleide van een formule, in combinatie met de waarde van de originele formule op een bepaalde waarde. Bereken de originele formule en pas deze toe op de gevraagde waarde."
   ]
  },
  {
   "cell_type": "code",
   "execution_count": null,
   "metadata": {
    "deletable": false,
    "editable": false
   },
   "outputs": [],
   "source": [
    "ac_opgaven.dif_eq()"
   ]
  },
  {
   "cell_type": "markdown",
   "metadata": {},
   "source": [
    "<div style=\"background: rgba(255,255,128,0.4); padding: 5px\">\n",
    "    \n",
    "$f(x) = \\dots$\n",
    "    \n",
    "De uitkomst van de formule op de gevraagde waarde is $\\dots$\n",
    "\n",
    "</div>"
   ]
  },
  {
   "cell_type": "code",
   "execution_count": null,
   "metadata": {
    "deletable": false,
    "editable": false
   },
   "outputs": [],
   "source": [
    "ac_uitwerkingen.dif_eq()"
   ]
  },
  {
   "cell_type": "markdown",
   "metadata": {
    "deletable": false,
    "editable": false
   },
   "source": [
    "## Opdracht 1\n",
    "Als afsluiter hebben we nog een differentiaalvergelijking: Gegeven\n",
    "\n",
    "$$f^\\prime = x^2 + xy + y^2, \\quad f(0) = 1$$\n",
    "\n",
    "bepaal $f(0.95)$.\n",
    "\n",
    "Deze formule is wat lastiger met de kennis die we nu van calculus hebben (kudos als het je lukt met de hand), dus we nemen een shortcut en gaan deze numeriek oplossen. Dit doen we met Euler's method, waarbij we een stapgrootte $\\delta_x = 0.025$ hanteren. Dit komt neer op 38 stappen nieuwe $x$- en $y$-waardes berekenen, en hier heeft niemand zin in. Gelukkig zijn we programmeurs!\n",
    "\n",
    "Schrijf een functie `euler()` die, gegeven een afgeleide van een functie (de Python-functie `afgeleide_functie()`), een start $x$ (in dit geval $0$), een start $y$ (in dit geval $1$), een $\\delta_x$ (in dit geval $0.025$) en een $\\text{target}_x$ (in dit geval $0.9$) de waarde van $f(0.9)$ bepaalt."
   ]
  },
  {
   "cell_type": "code",
   "execution_count": null,
   "metadata": {},
   "outputs": [],
   "source": [
    "def afgeleide_functie(x,y):\n",
    "    return x**2 + x*y + y**2\n",
    "\n",
    "def euler(f_prime, initial_x, initial_y, delta_x, target_x ): \n",
    "    pass"
   ]
  },
  {
   "cell_type": "markdown",
   "metadata": {
    "deletable": false,
    "editable": false
   },
   "source": [
    "### Tests\n",
    "De enige test voor deze functie is of de uiteindelijke waarde voor $f(0.9)$ klopt met de gegeven startcondities en stapgrootte."
   ]
  },
  {
   "cell_type": "code",
   "execution_count": null,
   "metadata": {
    "deletable": false,
    "editable": false
   },
   "outputs": [],
   "source": [
    "ac_tests.test_euler(afgeleide_functie, euler)"
   ]
  }
 ],
 "metadata": {
  "kernelspec": {
   "display_name": "Python 3",
   "language": "python",
   "name": "python3"
  },
  "language_info": {
   "codemirror_mode": {
    "name": "ipython",
    "version": 3
   },
   "file_extension": ".py",
   "mimetype": "text/x-python",
   "name": "python",
   "nbconvert_exporter": "python",
   "pygments_lexer": "ipython3",
   "version": "3.7.6"
  }
 },
 "nbformat": 4,
 "nbformat_minor": 4
}
